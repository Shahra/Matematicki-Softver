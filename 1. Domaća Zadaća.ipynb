{
 "cells": [
  {
   "cell_type": "markdown",
   "metadata": {},
   "source": [
    "# STABLA\n",
    "## Definicija\n",
    "Stablo je struktura podataka koja se sastoji od čvorova i bridova (pritom ne smiju postojati ciklusi). Stablo koje nema čvorova se naziva prazno stablo. Stablo koje nije prazno se sastoji od korijena i potencijalno dosta razina čvorova te se na taj način stvara hijerarhija (odnos \"podređeni-nadređeni\" ili \"dijete-roditelj\").  \n",
    "\n",
    "## Terminologija koju ćemo koristiti\n",
    "+ **korijen** - čvor na vrhu stabla\n",
    "+ **oznaka** od čvora x - vrijednost koja je pridružena čvoru\n",
    "+ **dijete** od čvora x - čvor koji je povezan sa čvorom x i nalazi se u smjeru suprotnom od korijena\n",
    "+ **roditelj** od čvora x - čvor koji je povezan sa čvorom x i nalazi se u smjeru korijena stabla\n",
    "+ **list** - čvor bez djece\n",
    "+ **unutrašnji čvor** - čvor koji nije list\n",
    "\n",
    "# Binarno stablo\n",
    "Umjesto stabala (koja se često razmatraju u matematici) u računarstvu se još češće pojavljuju binarna stabla. Radi se o nešto jednostavnijem i pravilnije građenom objektu kojeg je lakše prikazati u računalu. Binarno stablo je struktura podataka u kojem svaki čvor može imati lijevo dijete i desno dijete.\n",
    "\n",
    "# Potpuno binarno stablo\n",
    "Potpuno binarno stablo je binarno stablo u kojem svi unutrašnji čvorovi imaju oba djeteta i svi listovi se nalaze na istoj dubini."
   ]
  },
  {
   "cell_type": "code",
   "execution_count": 1,
   "metadata": {},
   "outputs": [
    {
     "data": {
      "application/vnd.jupyter.widget-view+json": {
       "model_id": "b855144761b04625a7dd6cc357dbf301",
       "version_major": 2,
       "version_minor": 0
      },
      "text/html": [
       "<p>Failed to display Jupyter Widget of type <code>interactive</code>.</p>\n",
       "<p>\n",
       "  If you're reading this message in the Jupyter Notebook or JupyterLab Notebook, it may mean\n",
       "  that the widgets JavaScript is still loading. If this message persists, it\n",
       "  likely means that the widgets JavaScript library is either not installed or\n",
       "  not enabled. See the <a href=\"https://ipywidgets.readthedocs.io/en/stable/user_install.html\">Jupyter\n",
       "  Widgets Documentation</a> for setup instructions.\n",
       "</p>\n",
       "<p>\n",
       "  If you're reading this message in another frontend (for example, a static\n",
       "  rendering on GitHub or <a href=\"https://nbviewer.jupyter.org/\">NBViewer</a>),\n",
       "  it may mean that your frontend doesn't currently support widgets.\n",
       "</p>\n"
      ],
      "text/plain": [
       "interactive(children=(IntSlider(value=0, description='n', max=3), Output()), _dom_classes=('widget-interact',))"
      ]
     },
     "metadata": {},
     "output_type": "display_data"
    }
   ],
   "source": [
    "from IPython.display import display\n",
    "from ipywidgets import interact\n",
    "import networkx as nx\n",
    "import matplotlib.pyplot as plt\n",
    "\n",
    "#pos je bio izgeneriran funkcijom, ali zbog preglednosti je ovdje hard kodiran\n",
    "pos = {\n",
    "     0: [0, 0],\n",
    "     1: [-1, -1],\n",
    "     2: [1, -1],\n",
    "     3: [-1.5, -2], \n",
    "     4: [-0.5, -2],\n",
    "     5: [0.5, -2],\n",
    "     6: [1.5, -2],\n",
    "     7: [-1.75, -3],\n",
    "     8: [-1.25, -3],\n",
    "     9: [-0.75, -3],\n",
    "    10: [-0.25, -3],\n",
    "    11: [0.25, -3],\n",
    "    12: [0.75, -3],\n",
    "    13: [1.25, -3],\n",
    "    14: [1.75, -3] \n",
    "}\n",
    "\n",
    "def draw_complete_binary_tree(n = 0):\n",
    "    G = nx.balanced_tree(2, n)\n",
    "    nx.draw(G, pos, with_labels=True, node_size = 800, node_color = \"blue\" )        \n",
    "\n",
    "interact(draw_complete_binary_tree, n=(0, 3) );"
   ]
  },
  {
   "cell_type": "markdown",
   "metadata": {},
   "source": [
    "**Napomena 1.** Potpuno binarno stablo ne mora imati sve čvorove na zadnjoj razini. Npr. za n = 3, potpuno binarno stablo ne mora imati neke od čvorova na zadnjoj razini, npr. 13 i 14."
   ]
  },
  {
   "cell_type": "markdown",
   "metadata": {},
   "source": [
    "#  Binarno stablo pretraživanja\n",
    "Binarno stablo pretraživanja je posebna vrsta binarnog stabla koja je izuzetno važna u mnogim primjenama. Oznake čvorova moraju zadovoljavati relaciju uređaja. U svakom čvoru oznaka mora biti veća od oznake lijevog djeteta i manja od oznake desnog djeteta.\n",
    "U binarnom stablu pretraživanja možemo ubacivati i brisati čvorove, ali svaki put moramo paziti da gore navedeni uvjet ostane očuvan.\n",
    "\n",
    "**Algoritam za pretraživanje:**\n",
    "+ proslijedimo korijen stabla\n",
    "+ ako je korijen prazan, vrijednost ne postoji u stablu\n",
    "+ inače, ako je tražena oznaka jednaka oznaci korijena, pretraga je završila i vratimo pronađeni čvor\n",
    "+ inače, ako je tražena oznaka strogo manja od korijena, pretražujemo lijevo podstablo\n",
    "+ inače, pretražujemo desno podstablo\n",
    "\n",
    "**Algoritam za ubacivanje:**\n",
    "+ proslijedimo korijen stabla i oznaku koju želimo ubaciti\n",
    "+ ako je oznaka jednaka oznaci korijena, čvor sa zadanom oznakom već postoji\n",
    "+ ako je oznaka strogo manja od oznake korijena, ponavljamo postupak sa lijevim podstablom\n",
    "+ inače, ponavljamo postupak sa desnim podstablom\n",
    "\n",
    "**Algoritam za brisanje:**\n",
    "Imamo tri moguća slučaja.\n",
    "+ čvor nema djecu - jednostavno maknemo čvor\n",
    "+ čvor ima jedno dijete: obrišemo čvor i zamijenimo ga sa njegovim djetetom\n",
    "+ čvor ima oba djeteta: nađemo prvi čvor koji ima veću oznaku od zadanog (neka je to čvor A). Postavimo oznaku čvora na oznaku čvora A. Ako čvor A nije imao djecu, samo ga obrišemo, inače, zamijenimo oznaku čvora E sa oznakom njegovog djeteta.\n",
    "\n",
    "Slijedi prikaz složenosti navedenih funkcionalnosti:"
   ]
  },
  {
   "cell_type": "code",
   "execution_count": 3,
   "metadata": {},
   "outputs": [
    {
     "data": {
      "text/html": [
       "<div>\n",
       "<style scoped>\n",
       "    .dataframe tbody tr th:only-of-type {\n",
       "        vertical-align: middle;\n",
       "    }\n",
       "\n",
       "    .dataframe tbody tr th {\n",
       "        vertical-align: top;\n",
       "    }\n",
       "\n",
       "    .dataframe thead th {\n",
       "        text-align: right;\n",
       "    }\n",
       "</style>\n",
       "<table border=\"1\" class=\"dataframe\">\n",
       "  <thead>\n",
       "    <tr style=\"text-align: right;\">\n",
       "      <th></th>\n",
       "      <th></th>\n",
       "      <th>Prosječno</th>\n",
       "      <th>Najgori slučaj</th>\n",
       "    </tr>\n",
       "  </thead>\n",
       "  <tbody>\n",
       "    <tr>\n",
       "      <th>0</th>\n",
       "      <td>Prostor</td>\n",
       "      <td>$O(n)$</td>\n",
       "      <td>$O(n)$</td>\n",
       "    </tr>\n",
       "    <tr>\n",
       "      <th>1</th>\n",
       "      <td>Pretraga</td>\n",
       "      <td>$O(log n)$</td>\n",
       "      <td>$O(n)$</td>\n",
       "    </tr>\n",
       "    <tr>\n",
       "      <th>2</th>\n",
       "      <td>Ubacivanje</td>\n",
       "      <td>$O(log n)$</td>\n",
       "      <td>$O(n)$</td>\n",
       "    </tr>\n",
       "    <tr>\n",
       "      <th>3</th>\n",
       "      <td>Brisanje</td>\n",
       "      <td>$O(log n)$</td>\n",
       "      <td>$O(n)$</td>\n",
       "    </tr>\n",
       "  </tbody>\n",
       "</table>\n",
       "</div>"
      ],
      "text/plain": [
       "                Prosječno Najgori slučaj\n",
       "0     Prostor      $O(n)$         $O(n)$\n",
       "1    Pretraga  $O(log n)$         $O(n)$\n",
       "2  Ubacivanje  $O(log n)$         $O(n)$\n",
       "3    Brisanje  $O(log n)$         $O(n)$"
      ]
     },
     "execution_count": 3,
     "metadata": {},
     "output_type": "execute_result"
    }
   ],
   "source": [
    "import pandas as pd\n",
    "df = pd.DataFrame(\n",
    "    {'' : ['Prostor', 'Pretraga', 'Ubacivanje', 'Brisanje'],\n",
    "     'Prosječno' : [r'$O(n)$', r'$O(log n)$', r'$O(log n)$', r'$O(log n)$'],\n",
    "     'Najgori slučaj' : [r'$O(n)$', r'$O(n)$', r'$O(n)$', r'$O(n)$']\n",
    "})\n",
    "df[['', 'Prosječno', 'Najgori slučaj']]"
   ]
  },
  {
   "cell_type": "markdown",
   "metadata": {},
   "source": [
    "**Napomena 2.** Složenost pretrage, ubacivanja i brisanja je u prosjeku  $O(logn)$, ali najgori slučaj je ipak $O(n)$, to se dogodi kad binarno stablo nije balansirano, primjer bi bio kad bi svaki čvor imao samo desno dijete."
   ]
  }
 ],
 "metadata": {
  "kernelspec": {
   "display_name": "Python 3",
   "language": "python",
   "name": "python3"
  },
  "language_info": {
   "codemirror_mode": {
    "name": "ipython",
    "version": 3
   },
   "file_extension": ".py",
   "mimetype": "text/x-python",
   "name": "python",
   "nbconvert_exporter": "python",
   "pygments_lexer": "ipython3",
   "version": "3.6.4"
  }
 },
 "nbformat": 4,
 "nbformat_minor": 2
}
