{
 "cells": [
  {
   "cell_type": "code",
   "execution_count": 10,
   "metadata": {},
   "outputs": [
    {
     "name": "stdout",
     "output_type": "stream",
     "text": [
      "[1, 3, 5, 7]\n",
      "[1j, -1j]\n",
      "1024.0000000010314\n",
      "27.00000900546229\n"
     ]
    }
   ],
   "source": [
    "from cmath import sqrt as sqrt\n",
    "from decimal import Decimal as D, getcontext\n",
    "def vrati_neparne_brojeve_do_broja(n):\n",
    "    solution = []\n",
    "    for i in range(1, n + 1):\n",
    "        if(i % 2 == 1):\n",
    "            solution.append(i)\n",
    "    return solution\n",
    "\n",
    "def rijesi_kvadratnu_jednazbu_sa_parametrima(a, b, c):\n",
    "    if(a == 0):\n",
    "        print(\"Koeficijent a mora biti razlicit od 0 da bi se radilo o kvadratnoj jednadzbi.\")\n",
    "    elif(b ** 2 - 4 * a * c == 0):\n",
    "        return -b / (2 * a)\n",
    "    else:\n",
    "        solution1 = (-b + sqrt(b ** 2 - 4 * a * c)) / (2 * a)\n",
    "        solution2 = (-b - sqrt(b ** 2 - 4 * a * c)) / (2 * a)\n",
    "        if(solution1.imag == 0):\n",
    "            solution1 = solution1.real\n",
    "        if(solution2.imag == 0):\n",
    "            solution2 = solution2.real\n",
    "        solutions = [solution1, solution2]\n",
    "        return solutions\n",
    "\n",
    "def trapezint(f, n, a, b):\n",
    "    h = (b - a) / n\n",
    "    sum = 0\n",
    "    for i in range(1, n + 1):\n",
    "        sum += f(a + (i - 1) * h) + f(a + i * h)\n",
    "    return (h / 2) * sum\n",
    "\n",
    "def diff(f, x, h=1e-6):\n",
    "    return (f(x + h) - f(x)) / h\n",
    "\n",
    "def f(x):\n",
    "    return x ** 3\n",
    "\n",
    "print(vrati_neparne_brojeve_do_broja(7))\n",
    "print(rijesi_kvadratnu_jednazbu_sa_parametrima(1, 0, 1))\n",
    "print(trapezint(f, 1000000, 0, 8))\n",
    "print(diff(f, 3))"
   ]
  }
 ],
 "metadata": {
  "kernelspec": {
   "display_name": "Python 3",
   "language": "python",
   "name": "python3"
  },
  "language_info": {
   "codemirror_mode": {
    "name": "ipython",
    "version": 3
   },
   "file_extension": ".py",
   "mimetype": "text/x-python",
   "name": "python",
   "nbconvert_exporter": "python",
   "pygments_lexer": "ipython3",
   "version": "3.6.4"
  }
 },
 "nbformat": 4,
 "nbformat_minor": 2
}
